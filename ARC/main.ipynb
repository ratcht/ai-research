{
 "cells": [
  {
   "cell_type": "code",
   "execution_count": 1,
   "metadata": {},
   "outputs": [
    {
     "data": {
      "text/plain": [
       "<TaskSet: 400 tasks>"
      ]
     },
     "execution_count": 1,
     "metadata": {},
     "output_type": "execute_result"
    }
   ],
   "source": [
    "import arckit\n",
    "train_set, eval_set = arckit.load_data() # Load ARC1 train/eval\n",
    "\n",
    "# TaskSets are iterable and indexable\n",
    "train_set "
   ]
  },
  {
   "cell_type": "code",
   "execution_count": 44,
   "metadata": {},
   "outputs": [
    {
     "data": {
      "text/plain": [
       "<Task-train 09629e4f | 4 train | 1 test>"
      ]
     },
     "execution_count": 44,
     "metadata": {},
     "output_type": "execute_result"
    }
   ],
   "source": [
    "train_set[10]"
   ]
  },
  {
   "cell_type": "code",
   "execution_count": 45,
   "metadata": {},
   "outputs": [
    {
     "name": "stdout",
     "output_type": "stream",
     "text": [
      "Input:\n",
      "[[2 0 0 5 0 6 2 5 0 0 4]\n",
      " [0 4 3 5 4 0 8 5 3 0 6]\n",
      " [6 0 0 5 3 0 0 5 8 0 2]\n",
      " [5 5 5 5 5 5 5 5 5 5 5]\n",
      " [3 8 0 5 6 2 0 5 0 4 8]\n",
      " [0 0 4 5 0 0 4 5 6 0 0]\n",
      " [6 2 0 5 3 8 0 5 0 3 2]\n",
      " [5 5 5 5 5 5 5 5 5 5 5]\n",
      " [0 3 6 5 0 2 0 5 0 6 0]\n",
      " [2 0 0 5 4 0 8 5 0 0 8]\n",
      " [8 0 4 5 6 3 0 5 2 3 4]]\n",
      "Output:\n",
      "[[2 2 2 5 0 0 0 5 0 0 0]\n",
      " [2 2 2 5 0 0 0 5 0 0 0]\n",
      " [2 2 2 5 0 0 0 5 0 0 0]\n",
      " [5 5 5 5 5 5 5 5 5 5 5]\n",
      " [0 0 0 5 4 4 4 5 3 3 3]\n",
      " [0 0 0 5 4 4 4 5 3 3 3]\n",
      " [0 0 0 5 4 4 4 5 3 3 3]\n",
      " [5 5 5 5 5 5 5 5 5 5 5]\n",
      " [6 6 6 5 0 0 0 5 0 0 0]\n",
      " [6 6 6 5 0 0 0 5 0 0 0]\n",
      " [6 6 6 5 0 0 0 5 0 0 0]]\n",
      "\n",
      "\n",
      "Input:\n",
      "[[2 0 3 5 4 6 0 5 0 6 0]\n",
      " [0 0 8 5 0 0 2 5 4 0 3]\n",
      " [4 6 0 5 3 8 0 5 2 0 8]\n",
      " [5 5 5 5 5 5 5 5 5 5 5]\n",
      " [4 0 8 5 0 0 2 5 0 6 4]\n",
      " [0 0 2 5 0 3 0 5 3 0 0]\n",
      " [3 0 6 5 4 0 6 5 8 0 2]\n",
      " [5 5 5 5 5 5 5 5 5 5 5]\n",
      " [3 6 0 5 0 8 4 5 2 0 0]\n",
      " [0 8 4 5 2 0 0 5 8 0 3]\n",
      " [2 0 0 5 0 3 6 5 6 4 0]]\n",
      "Output:\n",
      "[[0 0 0 5 0 0 0 5 2 2 2]\n",
      " [0 0 0 5 0 0 0 5 2 2 2]\n",
      " [0 0 0 5 0 0 0 5 2 2 2]\n",
      " [5 5 5 5 5 5 5 5 5 5 5]\n",
      " [0 0 0 5 3 3 3 5 0 0 0]\n",
      " [0 0 0 5 3 3 3 5 0 0 0]\n",
      " [0 0 0 5 3 3 3 5 0 0 0]\n",
      " [5 5 5 5 5 5 5 5 5 5 5]\n",
      " [4 4 4 5 0 0 0 5 6 6 6]\n",
      " [4 4 4 5 0 0 0 5 6 6 6]\n",
      " [4 4 4 5 0 0 0 5 6 6 6]]\n",
      "\n",
      "\n",
      "Input:\n",
      "[[0 3 0 5 0 6 3 5 0 6 2]\n",
      " [6 0 4 5 2 8 0 5 0 0 8]\n",
      " [0 2 8 5 0 4 0 5 3 0 4]\n",
      " [5 5 5 5 5 5 5 5 5 5 5]\n",
      " [0 2 0 5 4 0 3 5 3 4 0]\n",
      " [4 0 8 5 2 0 6 5 0 0 2]\n",
      " [3 6 0 5 0 8 0 5 8 6 0]\n",
      " [5 5 5 5 5 5 5 5 5 5 5]\n",
      " [6 3 0 5 0 3 0 5 0 0 3]\n",
      " [0 0 2 5 0 6 4 5 2 8 0]\n",
      " [8 4 0 5 2 0 0 5 4 0 6]]\n",
      "Output:\n",
      "[[0 0 0 5 3 3 3 5 0 0 0]\n",
      " [0 0 0 5 3 3 3 5 0 0 0]\n",
      " [0 0 0 5 3 3 3 5 0 0 0]\n",
      " [5 5 5 5 5 5 5 5 5 5 5]\n",
      " [0 0 0 5 6 6 6 5 4 4 4]\n",
      " [0 0 0 5 6 6 6 5 4 4 4]\n",
      " [0 0 0 5 6 6 6 5 4 4 4]\n",
      " [5 5 5 5 5 5 5 5 5 5 5]\n",
      " [2 2 2 5 0 0 0 5 0 0 0]\n",
      " [2 2 2 5 0 0 0 5 0 0 0]\n",
      " [2 2 2 5 0 0 0 5 0 0 0]]\n",
      "\n",
      "\n",
      "Input:\n",
      "[[3 8 4 5 4 6 0 5 2 0 8]\n",
      " [0 0 0 5 8 0 3 5 6 0 3]\n",
      " [6 2 0 5 0 2 0 5 4 0 0]\n",
      " [5 5 5 5 5 5 5 5 5 5 5]\n",
      " [0 4 2 5 8 0 3 5 0 4 0]\n",
      " [0 8 6 5 0 0 4 5 0 2 6]\n",
      " [0 3 0 5 2 6 0 5 0 3 0]\n",
      " [5 5 5 5 5 5 5 5 5 5 5]\n",
      " [0 6 0 5 6 2 0 5 3 6 0]\n",
      " [3 0 8 5 0 8 3 5 0 0 4]\n",
      " [4 2 0 5 0 0 4 5 2 0 8]]\n",
      "Output:\n",
      "[[0 0 0 5 4 4 4 5 0 0 0]\n",
      " [0 0 0 5 4 4 4 5 0 0 0]\n",
      " [0 0 0 5 4 4 4 5 0 0 0]\n",
      " [5 5 5 5 5 5 5 5 5 5 5]\n",
      " [0 0 0 5 2 2 2 5 6 6 6]\n",
      " [0 0 0 5 2 2 2 5 6 6 6]\n",
      " [0 0 0 5 2 2 2 5 6 6 6]\n",
      " [5 5 5 5 5 5 5 5 5 5 5]\n",
      " [0 0 0 5 3 3 3 5 0 0 0]\n",
      " [0 0 0 5 3 3 3 5 0 0 0]\n",
      " [0 0 0 5 3 3 3 5 0 0 0]]\n",
      "\n",
      "\n"
     ]
    }
   ],
   "source": [
    "for set in train_set[10].train:\n",
    "  print(\"Input:\")\n",
    "  print(set[0])\n",
    "  print(\"Output:\")\n",
    "  print(set[1])\n",
    "  print(\"\\n\")\n"
   ]
  },
  {
   "cell_type": "code",
   "execution_count": 26,
   "metadata": {},
   "outputs": [
    {
     "name": "stdout",
     "output_type": "stream",
     "text": [
      "Input:\n",
      "[[6 4 0 5 0 3 0 5 0 4 0]\n",
      " [0 0 3 5 2 8 6 5 8 0 2]\n",
      " [2 0 8 5 4 0 0 5 6 3 0]\n",
      " [5 5 5 5 5 5 5 5 5 5 5]\n",
      " [2 0 0 5 0 3 0 5 3 6 2]\n",
      " [3 4 6 5 8 4 2 5 0 0 4]\n",
      " [0 8 0 5 0 0 6 5 8 0 0]\n",
      " [5 5 5 5 5 5 5 5 5 5 5]\n",
      " [0 2 4 5 0 6 4 5 0 2 8]\n",
      " [0 6 3 5 0 0 3 5 4 0 6]\n",
      " [0 0 0 5 2 0 8 5 3 0 0]]\n",
      "Output:\n",
      "[[0 0 0 5 2 2 2 5 4 4 4]\n",
      " [0 0 0 5 2 2 2 5 4 4 4]\n",
      " [0 0 0 5 2 2 2 5 4 4 4]\n",
      " [5 5 5 5 5 5 5 5 5 5 5]\n",
      " [0 0 0 5 6 6 6 5 3 3 3]\n",
      " [0 0 0 5 6 6 6 5 3 3 3]\n",
      " [0 0 0 5 6 6 6 5 3 3 3]\n",
      " [5 5 5 5 5 5 5 5 5 5 5]\n",
      " [0 0 0 5 0 0 0 5 0 0 0]\n",
      " [0 0 0 5 0 0 0 5 0 0 0]\n",
      " [0 0 0 5 0 0 0 5 0 0 0]]\n",
      "\n",
      "\n"
     ]
    }
   ],
   "source": [
    "for set in train_set[10].test:\n",
    "  print(\"Input:\")\n",
    "  print(set[0])\n",
    "  print(\"Output:\")\n",
    "  print(set[1])\n",
    "  print(\"\\n\")"
   ]
  },
  {
   "cell_type": "code",
   "execution_count": 37,
   "metadata": {},
   "outputs": [
    {
     "data": {
      "text/plain": [
       "<Task-train 09629e4f | 4 train | 1 test>"
      ]
     },
     "execution_count": 37,
     "metadata": {},
     "output_type": "execute_result"
    }
   ],
   "source": [
    "task = arckit.load_single('09629e4f')\n",
    "\n",
    "\n",
    "task"
   ]
  },
  {
   "cell_type": "code",
   "execution_count": 43,
   "metadata": {},
   "outputs": [
    {
     "ename": "TypeError",
     "evalue": "list indices must be integers or slices, not str",
     "output_type": "error",
     "traceback": [
      "\u001b[0;31m---------------------------------------------------------------------------\u001b[0m",
      "\u001b[0;31mTypeError\u001b[0m                                 Traceback (most recent call last)",
      "Cell \u001b[0;32mIn[43], line 4\u001b[0m\n\u001b[1;32m      1\u001b[0m \u001b[38;5;28;01mimport\u001b[39;00m \u001b[38;5;21;01marckit\u001b[39;00m\u001b[38;5;21;01m.\u001b[39;00m\u001b[38;5;21;01mvis\u001b[39;00m \u001b[38;5;28;01mas\u001b[39;00m \u001b[38;5;21;01mvis\u001b[39;00m\n\u001b[1;32m      2\u001b[0m task \u001b[38;5;241m=\u001b[39m arckit\u001b[38;5;241m.\u001b[39mload_single(\u001b[38;5;124m'\u001b[39m\u001b[38;5;124m007bbfb7\u001b[39m\u001b[38;5;124m'\u001b[39m)\n\u001b[0;32m----> 4\u001b[0m grid \u001b[38;5;241m=\u001b[39m vis\u001b[38;5;241m.\u001b[39mdraw_grid(\u001b[43mtask\u001b[49m\u001b[38;5;241;43m.\u001b[39;49m\u001b[43mtrain\u001b[49m\u001b[43m[\u001b[49m\u001b[38;5;124;43m'\u001b[39;49m\u001b[38;5;124;43m2013d3e2\u001b[39;49m\u001b[38;5;124;43m'\u001b[39;49m\u001b[43m]\u001b[49m[\u001b[38;5;241m0\u001b[39m], xmax\u001b[38;5;241m=\u001b[39m\u001b[38;5;241m3\u001b[39m, ymax\u001b[38;5;241m=\u001b[39m\u001b[38;5;241m3\u001b[39m, padding\u001b[38;5;241m=\u001b[39m\u001b[38;5;241m.5\u001b[39m, label\u001b[38;5;241m=\u001b[39m\u001b[38;5;124m'\u001b[39m\u001b[38;5;124mExample\u001b[39m\u001b[38;5;124m'\u001b[39m)\n\u001b[1;32m      5\u001b[0m vis\u001b[38;5;241m.\u001b[39moutput_drawing(grid, \u001b[38;5;124m\"\u001b[39m\u001b[38;5;124mimages/grid_example.png\u001b[39m\u001b[38;5;124m\"\u001b[39m) \u001b[38;5;66;03m# svg/pdf/png\u001b[39;00m\n\u001b[1;32m      7\u001b[0m task \u001b[38;5;241m=\u001b[39m vis\u001b[38;5;241m.\u001b[39mdraw_task(train_set[\u001b[38;5;241m0\u001b[39m], width\u001b[38;5;241m=\u001b[39m\u001b[38;5;241m10\u001b[39m, height\u001b[38;5;241m=\u001b[39m\u001b[38;5;241m6\u001b[39m, label\u001b[38;5;241m=\u001b[39m\u001b[38;5;124m'\u001b[39m\u001b[38;5;124mExample\u001b[39m\u001b[38;5;124m'\u001b[39m)\n",
      "\u001b[0;31mTypeError\u001b[0m: list indices must be integers or slices, not str"
     ]
    }
   ],
   "source": [
    "import arckit.vis as vis\n",
    "task = arckit.load_single('007bbfb7')\n",
    "\n",
    "grid = vis.draw_grid(task.train['2013d3e2'][0], xmax=3, ymax=3, padding=.5, label='Example')\n",
    "vis.output_drawing(grid, \"images/grid_example.png\") # svg/pdf/png\n",
    "\n",
    "task = vis.draw_task(train_set[0], width=10, height=6, label='Example')\n",
    "vis.output_drawing(grid, \"images/arcshow_example.png\") # svg/pdf/png"
   ]
  }
 ],
 "metadata": {
  "kernelspec": {
   "display_name": ".venv",
   "language": "python",
   "name": "python3"
  },
  "language_info": {
   "codemirror_mode": {
    "name": "ipython",
    "version": 3
   },
   "file_extension": ".py",
   "mimetype": "text/x-python",
   "name": "python",
   "nbconvert_exporter": "python",
   "pygments_lexer": "ipython3",
   "version": "3.12.5"
  }
 },
 "nbformat": 4,
 "nbformat_minor": 2
}
